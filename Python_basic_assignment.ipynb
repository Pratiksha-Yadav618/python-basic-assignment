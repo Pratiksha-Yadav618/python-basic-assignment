{
  "nbformat": 4,
  "nbformat_minor": 0,
  "metadata": {
    "colab": {
      "provenance": []
    },
    "kernelspec": {
      "name": "python3",
      "display_name": "Python 3"
    },
    "language_info": {
      "name": "python"
    }
  },
  "cells": [
    {
      "cell_type": "markdown",
      "source": [
        "#PYTHON BASICS ASSIGNMENT"
      ],
      "metadata": {
        "id": "fEsI63rALxEk"
      }
    },
    {
      "cell_type": "markdown",
      "source": [
        "###1. What is Python, and why is it popular?\n",
        "-> Python is consider as one of the most simple, readable and versatile programming language. Python is both compiler as well as interprete. It was developed by guido van rossum in 1991.\n",
        "\n",
        "#### python is popular\n",
        "\n",
        "1.Dynamically Typed : No need to mention variable type manually,Type can change while running the program, Code is shorter and faster to write.\n",
        "\n",
        "2.Simplicity / or easy to learn : Python has a clean, English-like syntax that makes it accessible to beginners and efficient for experienced developers.\n",
        "\n",
        "3.Versatile : It has a large number of libraries, Used in web development, data science, machine learning, artificial intelligence, and more.\n",
        "\n",
        "4.Community support : Millions of developers contribute to open-source Python projects and offer support through forums, tutorials, and documentation.\n",
        "\n",
        "5.Rich ecosysytem of libraries : Rich set of built-in libraries (like NumPy, Pandas,TensorFlow).\n",
        "\n",
        "6.Cross-Platform Compatibility : Python runs on Windows, Mac, Linux, and other platforms without requiring major changes to the code.\n",
        "\n",
        "\n",
        "\n",
        "\n"
      ],
      "metadata": {
        "id": "2_Nj6s9SMHOR"
      }
    },
    {
      "cell_type": "markdown",
      "source": [
        "###2.What is an interpreter in Python?\n",
        "-> Interpreter in python translate and execute the code line by line.\n"
      ],
      "metadata": {
        "id": "iGRQtkbdf6mf"
      }
    },
    {
      "cell_type": "markdown",
      "source": [
        "###3.What are pre-defined keywords in Python?\n",
        "-> Pre-defined keywords in Python are reserved words that have special meaning and are used to write Python syntax and structure.\n",
        "Keyword has a special meaning and is used to define the syntax of language,\n",
        "you cannot use keywords as variable name, functions, class names."
      ],
      "metadata": {
        "id": "HPyqvEvSg7Rd"
      }
    },
    {
      "cell_type": "markdown",
      "source": [
        "###4. Can keywords be used as variable names?\n",
        "-> No, keywords cannot be used as variable names in Python. Keywords are reserved words that have special meaning in Python.\n",
        "\n"
      ],
      "metadata": {
        "id": "7rRZjnRL0LmA"
      }
    },
    {
      "cell_type": "markdown",
      "source": [
        "##5.What is mutability in Python?\n",
        "-> Objects whoes state or value can be changed after they are created are called mutable objects and also called as item assignment. Like List and dictionaries are mutabl."
      ],
      "metadata": {
        "id": "siFNNFKV3Tkx"
      }
    },
    {
      "cell_type": "markdown",
      "source": [
        "###6. Why are lists mutable, but tuples are immutable?\n",
        " -> Lists in Python are designed to change, You can add, remove, or change items in a list after it is created.\n",
        " Tuples are fixed and cannot be changed after creation, You cannot add, remove, or modify any element in a tuple.\n"
      ],
      "metadata": {
        "id": "n2R9v7Uq5nw7"
      }
    },
    {
      "cell_type": "markdown",
      "source": [
        "###7.What is the difference between “==” and “is” operators in Python?\n",
        "->\n",
        "== -\tEquality Operator\tChecks if values are the same\n",
        "      Compares the values of two objects.\n",
        "\n",
        "is -\tIdentity Operator\tChecks if both refer to same object in memory\n",
        "      Compares the memory location (identity) of two objects."
      ],
      "metadata": {
        "id": "br-Z3gqN68ca"
      }
    },
    {
      "cell_type": "markdown",
      "source": [
        "###8. What are logical operators in Python?\n",
        "-> Logical operators in Python are used to combine two or more conditions (True or False) to make decisions in programs.\n",
        "Logical operators are and, or, not.\n",
        "\n"
      ],
      "metadata": {
        "id": "6ge4gE-38Y1Z"
      }
    },
    {
      "cell_type": "markdown",
      "source": [
        "###9. What is type casting in Python?\n",
        "-> Converting one type of variable to another type, this is called as type conversion or type casting.\n"
      ],
      "metadata": {
        "id": "bPDK6lbC8w0m"
      }
    },
    {
      "cell_type": "markdown",
      "source": [
        "###10. What is the difference between implicit and explicit type casting?\n",
        "-> Implicit Type Casting - Python automatically converts data type.\n",
        "   \n",
        "   Explicit  Type Casting\t- manually convert one data type to another type using inbuilt function.\n"
      ],
      "metadata": {
        "id": "v-NkgnFr9dcT"
      }
    },
    {
      "cell_type": "markdown",
      "source": [
        "###11. What is the purpose of conditional statements in Python?\n",
        "-> Python is to allow the program to make decisions and execute different actions based on certain conditions. Conditional statements help to take decision depending on whether a condition is true or false.\n",
        "They are like the “decision-making power” of the program.\n",
        "\n",
        "Conditional statements in Python\n",
        "if, elif, else\n",
        "\n"
      ],
      "metadata": {
        "id": "19M2mVe9C49L"
      }
    },
    {
      "cell_type": "markdown",
      "source": [
        "###12. How does the elif statement work?\n",
        "-> The elif statement in Python stands for “else if”.\n",
        "It is used when you have multiple conditions to check—more than just one if and one else.\n",
        "\n",
        "How elif statement works:\n",
        "\n",
        "1.Python checks the first if condition.\n",
        "\n",
        "2.If (if) is False, it checks the elif condition.\n",
        "\n",
        "3.If none of the conditions are True, it runs the else block (if present)."
      ],
      "metadata": {
        "id": "sE7-hkO2FN_f"
      }
    },
    {
      "cell_type": "markdown",
      "source": [
        "###13. What is the difference between for and while loops?\n",
        "-> for loop -\tWhen you know how many times you need to repeat,\tRepeats over a sequence (list, string, range).\n",
        "\n",
        "while loop - When you don’t know how many times; based on a condition\tKeeps running until the condition is False.\n"
      ],
      "metadata": {
        "id": "Sts0CyQRGHLA"
      }
    },
    {
      "cell_type": "markdown",
      "source": [
        "###14. Describe a scenario where a while loop is more suitable than a for loop?\n",
        "-> Scenario Where a while Loop is More Suitable than a for Loop:\n",
        "\n",
        "Example Scenario:\n",
        "\n",
        "You are asking a user to enter a correct password.\n",
        "You don't know how many times the user might enter the wrong password, so you need the loop to continue until the correct password is entered.\n",
        "\n",
        "With a for loop, you'd have to limit the number of attempts.\n",
        "\n",
        "But in this case, you need to allow unlimited attempts → so while is the better choice."
      ],
      "metadata": {
        "id": "ivRVwYq8HsRT"
      }
    },
    {
      "cell_type": "markdown",
      "source": [],
      "metadata": {
        "id": "d55R3Gz1gNTl"
      }
    },
    {
      "cell_type": "code",
      "execution_count": null,
      "metadata": {
        "colab": {
          "base_uri": "https://localhost:8080/"
        },
        "id": "MxUlMpLmLsDk",
        "outputId": "c09911e8-dd7d-4eed-8feb-8428482549dc"
      },
      "outputs": [
        {
          "output_type": "stream",
          "name": "stdout",
          "text": [
            "[10, 2, 3]\n"
          ]
        }
      ],
      "source": [
        "my_list = [1, 2, 3]\n",
        "my_list[0] = 10\n",
        "print(my_list)"
      ]
    },
    {
      "cell_type": "markdown",
      "source": [
        "#Practical Questions\n",
        "\n",
        "\n",
        "1.Write a Python program to print \"Hello, World!\""
      ],
      "metadata": {
        "id": "YFdZhj08Lvjc"
      }
    },
    {
      "cell_type": "code",
      "source": [
        "print(\"Hello, World!\")"
      ],
      "metadata": {
        "colab": {
          "base_uri": "https://localhost:8080/"
        },
        "id": "csqraDHBbNVr",
        "outputId": "9d81caee-5fec-43c3-d725-76db7b535d7e"
      },
      "execution_count": null,
      "outputs": [
        {
          "output_type": "stream",
          "name": "stdout",
          "text": [
            "Hello, World!\n"
          ]
        }
      ]
    },
    {
      "cell_type": "markdown",
      "source": [
        "2. Write a Python program that displays your name and age."
      ],
      "metadata": {
        "id": "cSXakRv_bghj"
      }
    },
    {
      "cell_type": "code",
      "source": [
        "name = \"Pratiksha Yadav\"\n",
        "age = 24\n",
        "print(f\"My name is {name}\")\n",
        "print(f\"my age is {age}\")\n",
        "\n"
      ],
      "metadata": {
        "colab": {
          "base_uri": "https://localhost:8080/"
        },
        "id": "_kMHF1ryb0Yl",
        "outputId": "f1519ca0-bd84-4fcf-869d-b0e8484275a7"
      },
      "execution_count": null,
      "outputs": [
        {
          "output_type": "stream",
          "name": "stdout",
          "text": [
            "My name is Pratiksha Yadav\n",
            "my age is 24\n"
          ]
        }
      ]
    },
    {
      "cell_type": "markdown",
      "source": [
        "3. Write code to print all the pre-defined keywords in Python using the keyword library."
      ],
      "metadata": {
        "id": "zlWvJDzTbzrx"
      }
    },
    {
      "cell_type": "code",
      "source": [
        "import keyword\n",
        "print(keyword.kwlist)"
      ],
      "metadata": {
        "colab": {
          "base_uri": "https://localhost:8080/"
        },
        "id": "3prOtK2nffmN",
        "outputId": "a994b3ec-46a6-480d-ae0a-833a49f0ff99"
      },
      "execution_count": null,
      "outputs": [
        {
          "output_type": "stream",
          "name": "stdout",
          "text": [
            "['False', 'None', 'True', 'and', 'as', 'assert', 'async', 'await', 'break', 'class', 'continue', 'def', 'del', 'elif', 'else', 'except', 'finally', 'for', 'from', 'global', 'if', 'import', 'in', 'is', 'lambda', 'nonlocal', 'not', 'or', 'pass', 'raise', 'return', 'try', 'while', 'with', 'yield']\n"
          ]
        }
      ]
    },
    {
      "cell_type": "markdown",
      "source": [
        "4. Write a program that checks if a given word is a Python keyword."
      ],
      "metadata": {
        "id": "18MXP1UYLs3G"
      }
    },
    {
      "cell_type": "code",
      "source": [
        "a = \"from\"\n",
        "import keyword\n",
        "print(keyword.iskeyword(\"from\"))"
      ],
      "metadata": {
        "colab": {
          "base_uri": "https://localhost:8080/"
        },
        "id": "70VK2l1kgGUN",
        "outputId": "0bc3caa1-2598-4de6-c5fe-effa8f008ee7"
      },
      "execution_count": null,
      "outputs": [
        {
          "output_type": "stream",
          "name": "stdout",
          "text": [
            "True\n"
          ]
        }
      ]
    },
    {
      "cell_type": "markdown",
      "source": [
        "5. Create a list and tuple in Python, and demonstrate how attempting to change an element works differently\n",
        "for each.\n"
      ],
      "metadata": {
        "id": "o3cKGZsLhLon"
      }
    },
    {
      "cell_type": "code",
      "source": [
        "# Creating list\n",
        "my_list = [\"5star\", \"Dairymilk\", \"Dark chocolate\"]\n",
        "# Creating tuple\n",
        "my_tuple = (\"5star\", \"Dairymilk\", \"Dark chocolate\")\n",
        "\n",
        "#changes in list element\n",
        "#list is mutable\n",
        "\n",
        "my_list[1] = \"gems\"\n",
        "print(\"modified list\", my_list)"
      ],
      "metadata": {
        "colab": {
          "base_uri": "https://localhost:8080/"
        },
        "id": "0DvlX3ThhUHl",
        "outputId": "331ea456-50db-4fac-c883-a05d67c29ee1"
      },
      "execution_count": null,
      "outputs": [
        {
          "output_type": "stream",
          "name": "stdout",
          "text": [
            "modified list ['5star', 'gems', 'Dark chocolate']\n"
          ]
        }
      ]
    },
    {
      "cell_type": "code",
      "source": [
        "#changes in tuple\n",
        "#tuple is immutable\n",
        "\n",
        "my_tuple[1] = \"gems\"\n",
        "#it gives an error\n"
      ],
      "metadata": {
        "colab": {
          "base_uri": "https://localhost:8080/",
          "height": 176
        },
        "id": "MQPlE_ddjkam",
        "outputId": "4d91b22c-3425-42a6-b7b3-6a9cf80dc449"
      },
      "execution_count": null,
      "outputs": [
        {
          "output_type": "error",
          "ename": "TypeError",
          "evalue": "'tuple' object does not support item assignment",
          "traceback": [
            "\u001b[0;31m---------------------------------------------------------------------------\u001b[0m",
            "\u001b[0;31mTypeError\u001b[0m                                 Traceback (most recent call last)",
            "\u001b[0;32m/tmp/ipython-input-10-921693625.py\u001b[0m in \u001b[0;36m<cell line: 0>\u001b[0;34m()\u001b[0m\n\u001b[1;32m      2\u001b[0m \u001b[0;31m#tuple is immutable\u001b[0m\u001b[0;34m\u001b[0m\u001b[0;34m\u001b[0m\u001b[0m\n\u001b[1;32m      3\u001b[0m \u001b[0;34m\u001b[0m\u001b[0m\n\u001b[0;32m----> 4\u001b[0;31m \u001b[0mmy_tuple\u001b[0m\u001b[0;34m[\u001b[0m\u001b[0;36m1\u001b[0m\u001b[0;34m]\u001b[0m \u001b[0;34m=\u001b[0m \u001b[0;34m\"gems\"\u001b[0m\u001b[0;34m\u001b[0m\u001b[0;34m\u001b[0m\u001b[0m\n\u001b[0m",
            "\u001b[0;31mTypeError\u001b[0m: 'tuple' object does not support item assignment"
          ]
        }
      ]
    },
    {
      "cell_type": "markdown",
      "source": [
        "6. Write a function to demonstrate the behavior of mutable and immutable arguments."
      ],
      "metadata": {
        "id": "MMrIcbXFkNmw"
      }
    },
    {
      "cell_type": "code",
      "source": [
        "def check_mutable_arg(mut, immut):\n",
        "    immut += 1\n",
        "    mut.append(100)\n",
        "\n",
        "num = 10          # Immutable\n",
        "lst = [1, 2, 3]   # Mutable\n",
        "\n",
        "check_mutable_arg(lst, num)\n",
        "\n",
        "print(\"Immutable:\", num)   # ➝ 10 (unchanged)\n",
        "print(\"Mutable:\", lst)     # ➝ [1, 2, 3, 100] (changed)"
      ],
      "metadata": {
        "colab": {
          "base_uri": "https://localhost:8080/"
        },
        "id": "KzRmS_PQGtzs",
        "outputId": "8832ca77-6445-4c44-e604-75c83205559d"
      },
      "execution_count": 1,
      "outputs": [
        {
          "output_type": "stream",
          "name": "stdout",
          "text": [
            "Immutable: 10\n",
            "Mutable: [1, 2, 3, 100]\n"
          ]
        }
      ]
    },
    {
      "cell_type": "markdown",
      "source": [
        "7. Write a program that performs basic arithmetic operations on two user-input numbers.\n",
        "\n"
      ],
      "metadata": {
        "id": "-veU0DK6kmBf"
      }
    },
    {
      "cell_type": "code",
      "source": [
        "num1 = int(input(\"enter number\"))\n",
        "num2 = int(input(\"enter number\"))\n",
        "sum = num1 + num2\n",
        "print(f\"the sum of {num1} and {num2} is {sum}\")\n",
        "subtraction = num1 - num2\n",
        "print(f\"the sub of {num1} and {num2} is {subtraction}\")\n",
        "mult = num1 * num2\n",
        "print(f\"the mult of {num1} and {num2} is {mult}\")\n",
        "division = num1 / num2\n",
        "print(f\"the division of {num1} and {num2} is {division}\")"
      ],
      "metadata": {
        "colab": {
          "base_uri": "https://localhost:8080/"
        },
        "id": "siCnjCOlkoOz",
        "outputId": "3d9b2a89-f9b3-43b7-a258-a2899386093c"
      },
      "execution_count": null,
      "outputs": [
        {
          "output_type": "stream",
          "name": "stdout",
          "text": [
            "enter number4\n",
            "enter number5\n",
            "the sum of 4 and 5 is 9\n",
            "the sub of 4 and 5 is -1\n",
            "the mult of 4 and 5 is 20\n",
            "the division of 4 and 5 is 0.8\n"
          ]
        }
      ]
    },
    {
      "cell_type": "markdown",
      "source": [
        "8. Write a program to demonstrate the use of logical operators."
      ],
      "metadata": {
        "id": "YhBLn69rm4eQ"
      }
    },
    {
      "cell_type": "code",
      "source": [
        "#logical operators are:\n",
        "# and, OR , NOT\n",
        "\n",
        "a = True\n",
        "b = False\n",
        "\n",
        "a and b\n",
        "\n"
      ],
      "metadata": {
        "colab": {
          "base_uri": "https://localhost:8080/"
        },
        "id": "NpUc0cNEm8iZ",
        "outputId": "2dab0dbe-ae21-4b78-f00e-76e07ccee2f1"
      },
      "execution_count": null,
      "outputs": [
        {
          "output_type": "execute_result",
          "data": {
            "text/plain": [
              "False"
            ]
          },
          "metadata": {},
          "execution_count": 13
        }
      ]
    },
    {
      "cell_type": "code",
      "source": [
        "a or b"
      ],
      "metadata": {
        "colab": {
          "base_uri": "https://localhost:8080/"
        },
        "id": "kl05z5akolJX",
        "outputId": "db97b7e6-7bea-4e74-9312-b9f6eafb288b"
      },
      "execution_count": null,
      "outputs": [
        {
          "output_type": "execute_result",
          "data": {
            "text/plain": [
              "True"
            ]
          },
          "metadata": {},
          "execution_count": 14
        }
      ]
    },
    {
      "cell_type": "code",
      "source": [
        "not(a)"
      ],
      "metadata": {
        "colab": {
          "base_uri": "https://localhost:8080/"
        },
        "id": "LvIvZrMroqBm",
        "outputId": "f4fb8fbf-8c45-4e85-f8fa-a17144c02444"
      },
      "execution_count": null,
      "outputs": [
        {
          "output_type": "execute_result",
          "data": {
            "text/plain": [
              "False"
            ]
          },
          "metadata": {},
          "execution_count": 15
        }
      ]
    },
    {
      "cell_type": "markdown",
      "source": [
        "9. Write a Python program to convert user input from string to integer, float, and boolean types."
      ],
      "metadata": {
        "id": "E1i1Ii6Aopo4"
      }
    },
    {
      "cell_type": "code",
      "source": [
        "# conversion\n",
        "y= input(\"enter the value\")\n",
        "print(\"the integer vakue is\", int(y))\n",
        "print(\"the float value is\", float(y))\n",
        "print(\"the boolean value is\", bool(y))\n"
      ],
      "metadata": {
        "colab": {
          "base_uri": "https://localhost:8080/"
        },
        "id": "pxexo-NXo2X8",
        "outputId": "9898a6ac-2522-495e-af9c-4fef776477a9"
      },
      "execution_count": 2,
      "outputs": [
        {
          "output_type": "stream",
          "name": "stdout",
          "text": [
            "enter the value25\n",
            "the integer vakue is 25\n",
            "the float value is 25.0\n",
            "the boolean value is True\n"
          ]
        }
      ]
    },
    {
      "cell_type": "markdown",
      "source": [
        "10. Write code to demonstrate type casting with list elements."
      ],
      "metadata": {
        "id": "klA836DXm7wo"
      }
    },
    {
      "cell_type": "code",
      "source": [
        "#it is type casted in tuple\n",
        "a = [1,2,3,4]\n",
        "print(tuple(a))"
      ],
      "metadata": {
        "colab": {
          "base_uri": "https://localhost:8080/"
        },
        "id": "MDCW4wvBBWwx",
        "outputId": "f8349d6d-988e-47f4-ca81-725c11415617"
      },
      "execution_count": null,
      "outputs": [
        {
          "output_type": "stream",
          "name": "stdout",
          "text": [
            "(1, 2, 3, 4)\n"
          ]
        }
      ]
    },
    {
      "cell_type": "code",
      "source": [
        "#type casted in set\n",
        "a = [1,2,3,4]\n",
        "print(set(a))"
      ],
      "metadata": {
        "colab": {
          "base_uri": "https://localhost:8080/"
        },
        "id": "KFY_ukzXDWnh",
        "outputId": "74820986-0386-49dd-de19-622d487b25f4"
      },
      "execution_count": null,
      "outputs": [
        {
          "output_type": "stream",
          "name": "stdout",
          "text": [
            "{1, 2, 3, 4}\n"
          ]
        }
      ]
    },
    {
      "cell_type": "markdown",
      "source": [
        "11. Write a program that checks if a number is positive, negative, or zero.\n",
        "\n"
      ],
      "metadata": {
        "id": "UDOvZ8Vx0orJ"
      }
    },
    {
      "cell_type": "code",
      "source": [
        "#input from user\n",
        "num = int(input(\"enter the value\"))\n",
        "\n",
        "if num > 0:\n",
        "  print(\"the number positive\")\n",
        "elif num < 0:\n",
        "  print(\"the number is negative\")\n",
        "else:\n",
        "  print(\"the number is zero\")\n",
        "\n"
      ],
      "metadata": {
        "colab": {
          "base_uri": "https://localhost:8080/"
        },
        "id": "kOv5nSTURxGU",
        "outputId": "4a890ea5-3415-4d07-e989-009773fa9687"
      },
      "execution_count": null,
      "outputs": [
        {
          "output_type": "stream",
          "name": "stdout",
          "text": [
            "enter the value-2\n",
            "the number is negative\n"
          ]
        }
      ]
    },
    {
      "cell_type": "markdown",
      "source": [
        "12. Write a for loop to print numbers from 1 to 10."
      ],
      "metadata": {
        "id": "r1Gg7TuVw72f"
      }
    },
    {
      "cell_type": "code",
      "source": [
        "for i in range(1, 11):\n",
        "   print(i)"
      ],
      "metadata": {
        "colab": {
          "base_uri": "https://localhost:8080/"
        },
        "id": "w8O3RlaHxE_P",
        "outputId": "f1bdbc7e-7b20-48c8-c7dc-3c9aa0650e6e"
      },
      "execution_count": null,
      "outputs": [
        {
          "output_type": "stream",
          "name": "stdout",
          "text": [
            "1\n",
            "2\n",
            "3\n",
            "4\n",
            "5\n",
            "6\n",
            "7\n",
            "8\n",
            "9\n",
            "10\n"
          ]
        }
      ]
    },
    {
      "cell_type": "markdown",
      "source": [
        "13. Write a Python program to find the sum of all even numbers between 1 and 50."
      ],
      "metadata": {
        "id": "Z3bM7WEix5n9"
      }
    },
    {
      "cell_type": "code",
      "source": [
        "#sum of even no.\n",
        "even_sum = 0\n",
        "\n",
        "for num in range(1, 51):\n",
        "   if num % 2 == 0:\n",
        "      even_sum += num\n",
        "\n",
        "print(\"the sum of all even number between 1 and 50 is:\", even_sum)\n"
      ],
      "metadata": {
        "colab": {
          "base_uri": "https://localhost:8080/"
        },
        "id": "YhiVeTwayCCf",
        "outputId": "6d5f2034-03ea-451a-fb28-42967b7cf592"
      },
      "execution_count": null,
      "outputs": [
        {
          "output_type": "stream",
          "name": "stdout",
          "text": [
            "the sum of all even number between 1 and 50 is: 650\n"
          ]
        }
      ]
    },
    {
      "cell_type": "markdown",
      "source": [
        "14. Write a program to reverse a string using a while loop.\n"
      ],
      "metadata": {
        "id": "h344fIfx0dGk"
      }
    },
    {
      "cell_type": "code",
      "source": [
        "string = \"Hello World\"\n",
        "reversed_string = \"\"\n",
        "\n",
        "# Initialize index to last character\n",
        "index = len(string) - 1\n",
        "\n",
        "# While loop to reverse the string\n",
        "while index >= 0:\n",
        "    reversed_string += string[index]\n",
        "    index -= 1\n",
        "\n",
        "print(\"Original String:\", string)\n",
        "\n",
        "print(\"Reversed String:\", reversed_string)"
      ],
      "metadata": {
        "colab": {
          "base_uri": "https://localhost:8080/"
        },
        "id": "f1K1CDG4OC2C",
        "outputId": "5730ffad-b158-4027-bdab-d2308399c110"
      },
      "execution_count": null,
      "outputs": [
        {
          "output_type": "stream",
          "name": "stdout",
          "text": [
            "Original String: Hello World\n",
            "Reversed String: dlroW olleH\n"
          ]
        }
      ]
    },
    {
      "cell_type": "markdown",
      "source": [
        "15.  Write a Python program to calculate the factorial of a number provided by the user using a while loop"
      ],
      "metadata": {
        "id": "OAygJ6sz1Dqu"
      }
    },
    {
      "cell_type": "code",
      "source": [
        "# Calculate factorial using while loop\n",
        "\n",
        "num = int(input(\"Enter a number: \"))\n",
        "\n",
        "factorial = 1\n",
        "i = 1\n",
        "\n",
        "# Calculate factorial using while loop\n",
        "while i <= num:\n",
        "    factorial *= i\n",
        "    i += 1\n",
        "\n",
        "print(f\"The factorial of {num} is: {factorial}\")"
      ],
      "metadata": {
        "colab": {
          "base_uri": "https://localhost:8080/"
        },
        "id": "UYiSLhZlT24p",
        "outputId": "328a2417-6202-4f60-d678-d9f69c2f5aa8"
      },
      "execution_count": null,
      "outputs": [
        {
          "output_type": "stream",
          "name": "stdout",
          "text": [
            "Enter a number: 5\n",
            "The factorial of 5 is: 120\n"
          ]
        }
      ]
    },
    {
      "cell_type": "markdown",
      "source": [],
      "metadata": {
        "id": "JPdQibnA1V2f"
      }
    },
    {
      "cell_type": "code",
      "source": [],
      "metadata": {
        "id": "X6KZVXr5v09b"
      },
      "execution_count": null,
      "outputs": []
    }
  ]
}